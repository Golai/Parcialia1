{
 "cells": [
  {
   "cell_type": "code",
   "execution_count": null,
   "metadata": {},
   "outputs": [],
   "source": [
    "import gmplot\n",
    "Charminar_top_attraction_lats, Charminar_top_attraction_lons = zip(*[ \n",
    "(38,-97),(35,105),(36,138),(51,9), \n",
    "(54,-2)])\n",
    "gmap3=gmplot.GoogleMapPlotter(0,0,2)\n",
    "gmap3.scatter( Charminar_top_attraction_lats, Charminar_top_attraction_lons,\n",
    "'#FF0000',size = 50, marker = False )\n",
    "gmap3.plot(Charminar_top_attraction_lats, Charminar_top_attraction_lons,\n",
    "'cornflowerblue', edge_width = 3.0)\n",
    "gmap3.draw('c:\\\\users\\\\lucho\\\\Desktop\\\\python\\\\mapC.html')"
   ]
  }
 ],
 "metadata": {
  "kernelspec": {
   "display_name": "Python 3",
   "language": "python",
   "name": "python3"
  },
  "language_info": {
   "codemirror_mode": {
    "name": "ipython",
    "version": 3
   },
   "file_extension": ".py",
   "mimetype": "text/x-python",
   "name": "python",
   "nbconvert_exporter": "python",
   "pygments_lexer": "ipython3",
   "version": "3.7.3"
  }
 },
 "nbformat": 4,
 "nbformat_minor": 2
}
