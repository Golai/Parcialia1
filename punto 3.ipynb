{
 "cells": [
  {
   "cell_type": "code",
   "execution_count": 2,
   "metadata": {},
   "outputs": [
    {
     "ename": "ModuleNotFoundError",
     "evalue": "No module named 'gmplot'",
     "output_type": "error",
     "traceback": [
      "\u001b[1;31m---------------------------------------------------------------------------\u001b[0m",
      "\u001b[1;31mModuleNotFoundError\u001b[0m                       Traceback (most recent call last)",
      "\u001b[1;32m<ipython-input-2-8c998a6060bf>\u001b[0m in \u001b[0;36m<module>\u001b[1;34m\u001b[0m\n\u001b[1;32m----> 1\u001b[1;33m \u001b[1;32mimport\u001b[0m \u001b[0mgmplot\u001b[0m\u001b[1;33m\u001b[0m\u001b[1;33m\u001b[0m\u001b[0m\n\u001b[0m\u001b[0;32m      2\u001b[0m Charminar_top_attraction_lats, Charminar_top_attraction_lons = zip(*[\n\u001b[0;32m      3\u001b[0m \u001b[1;33m(\u001b[0m\u001b[1;36m17.3833\u001b[0m\u001b[1;33m,\u001b[0m \u001b[1;36m78.4011\u001b[0m\u001b[1;33m)\u001b[0m\u001b[1;33m,\u001b[0m\u001b[1;33m(\u001b[0m\u001b[1;36m17.4239\u001b[0m\u001b[1;33m,\u001b[0m \u001b[1;36m78.4738\u001b[0m\u001b[1;33m)\u001b[0m\u001b[1;33m,\u001b[0m\u001b[1;33m(\u001b[0m\u001b[1;36m17.3713\u001b[0m\u001b[1;33m,\u001b[0m \u001b[1;36m78.4804\u001b[0m\u001b[1;33m)\u001b[0m\u001b[1;33m,\u001b[0m\u001b[1;33m(\u001b[0m\u001b[1;36m17.3616\u001b[0m\u001b[1;33m,\u001b[0m \u001b[1;36m78.4747\u001b[0m\u001b[1;33m)\u001b[0m\u001b[1;33m,\u001b[0m\u001b[1;33m\u001b[0m\u001b[1;33m\u001b[0m\u001b[0m\n\u001b[0;32m      4\u001b[0m (17.3833, 78.4011)])\n\u001b[0;32m      5\u001b[0m \u001b[1;31m#la linea anterior lo que hace es tener todas las coordenadas listas que se van a usar\u001b[0m\u001b[1;33m\u001b[0m\u001b[1;33m\u001b[0m\u001b[1;33m\u001b[0m\u001b[0m\n",
      "\u001b[1;31mModuleNotFoundError\u001b[0m: No module named 'gmplot'"
     ]
    }
   ],
   "source": [
    "import gmplot\n",
    "Charminar_top_attraction_lats, Charminar_top_attraction_lons = zip(*[\n",
    "(17.3833, 78.4011),(17.4239, 78.4738),(17.3713, 78.4804),(17.3616, 78.4747),\n",
    "(17.3833, 78.4011)])\n",
    "#la linea anterior lo que hace es tener todas las coordenadas listas que se van a usar\n",
    "gmap3=gmplot.GoogleMapPlotter(17.3616,78.4747,13)\n",
    "#se escoge la coordenadas del centro, y que tan lejos vamos a estar del suelo\n",
    "gmap3.scatter( Charminar_top_attraction_lats, Charminar_top_attraction_lons,\n",
    "'#FF0000',size = 50, marker = False )\n",
    "#se dibuja circulos en cada coordenada de color rojo y se le da tamaño\n",
    "gmap3.plot(Charminar_top_attraction_lats, Charminar_top_attraction_lons,\n",
    "'cornflowerblue', edge_width = 3.0)\n",
    "# se traza lineas en orden de coordenadas, de la primera a la segunda y asi sucesivamente\n",
    "#hasta tener todas las coordenadas\n",
    "gmap3.draw('c:\\\\users\\\\lucho\\\\Desktop\\\\python\\\\map03_1.html')\n",
    "# se guarda el archivo del mapa en el pc, en este caso la ruta de donde lo queiras guardar\n",
    "# desde c, va a los usiaros, escoge el mio, va a escritorio, y luego a la carpeta, luego \n",
    "#lo creoa con el nombre que yo lo de y en formato html\n",
    "# en jupyter no me funcionaba, pero en la terminal de pytho si\n"
   ]
  },
  {
   "cell_type": "code",
   "execution_count": null,
   "metadata": {},
   "outputs": [],
   "source": []
  },
  {
   "cell_type": "code",
   "execution_count": null,
   "metadata": {},
   "outputs": [],
   "source": []
  }
 ],
 "metadata": {
  "kernelspec": {
   "display_name": "Python 3",
   "language": "python",
   "name": "python3"
  }
 },
 "nbformat": 4,
 "nbformat_minor": 2
}
