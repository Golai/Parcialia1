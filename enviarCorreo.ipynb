{
 "cells": [
  {
   "cell_type": "code",
   "execution_count": null,
   "metadata": {},
   "outputs": [
    {
     "name": "stdout",
     "output_type": "stream",
     "text": [
      "ingrese su correo electronico: luchocorrealviveros@gmail.com\n",
      "ingrese la contraseña: ········\n",
      "ingrese el correo destinatario: gogomillan@outlook.com\n"
     ]
    }
   ],
   "source": [
    "import smtplib\n",
    "import re\n",
    "import getpass\n",
    "def verificarCorreo(correoVerificar):\n",
    "    correoRe=r'(^[\\w]+)@([\\w]+)' + '.com'\n",
    "    match=re.search(correoRe,correoVerificar)\n",
    "    return match\n",
    "\n",
    "def enviarCorreo():\n",
    "    try:\n",
    "        smtpObj = smtplib.SMTP('smtp.gmail.com',587)\n",
    "        smtpObj.ehlo()\n",
    "        smtpObj.starttls()\n",
    "        smtpObj.login(correo,password)\n",
    "        correoDestino=input(\"ingrese el correo destinatario: \")\n",
    "        #correoDestino.split(\"\")\n",
    "        #print(correoDestino)\n",
    "        match2=verificarCorreo(correoDestino)\n",
    "        if match2:\n",
    "            correosDes=[correoDestino]\n",
    "            #print(correosDes)\n",
    "            mensaje=input(\"cual es tu mensaje que quieres enviar?: \")\n",
    "            msj=\"From: \"+correo+\" <\"+correo+\">\\n\"\n",
    "            msj=msj+\"To: \"+correoDestino+\" <\"+correoDestino+\">\\n\"\n",
    "            msj=msj+\"Subject: SMTP e-mail test \\n\\n\"\n",
    "            msj=msj+mensaje\n",
    "            #print(msj)\n",
    "            smtpObj.sendmail(correo, correosDes, msj)  \n",
    "            smtpObj.quit()       \n",
    "            print(\"Successfully sent email\")\n",
    "        else:\n",
    "            print(\"el correo destino: \",correoDestino,\"esta mal digitado\")\n",
    "    except smtplib.SMTPException:\n",
    "        print(\"Error: unable to send email\")\n",
    "\n",
    "\n",
    "\n",
    "correo=input(\"ingrese su correo electronico: \")\n",
    "mat=verificarCorreo(correo)\n",
    "\n",
    "if mat:\n",
    "    password=getpass.getpass(\"ingrese la contraseña: \")\n",
    "    enviarCorreo()\n",
    "\n",
    "else:\n",
    "    print(\"     el correo de salida: \",correo,\" esta mal digitado\")"
   ]
  },
  {
   "cell_type": "code",
   "execution_count": 6,
   "metadata": {},
   "outputs": [
    {
     "data": {
      "text/plain": [
       "3"
      ]
     },
     "execution_count": 6,
     "metadata": {},
     "output_type": "execute_result"
    }
   ],
   "source": [
    "3"
   ]
  },
  {
   "cell_type": "code",
   "execution_count": null,
   "metadata": {},
   "outputs": [],
   "source": []
  },
  {
   "cell_type": "code",
   "execution_count": null,
   "metadata": {},
   "outputs": [],
   "source": []
  }
 ],
 "metadata": {
  "kernelspec": {
   "display_name": "Python 3",
   "language": "python",
   "name": "python3"
  },
  "language_info": {
   "codemirror_mode": {
    "name": "ipython",
    "version": 3
   },
   "file_extension": ".py",
   "mimetype": "text/x-python",
   "name": "python",
   "nbconvert_exporter": "python",
   "pygments_lexer": "ipython3",
   "version": "3.7.3"
  }
 },
 "nbformat": 4,
 "nbformat_minor": 2
}
